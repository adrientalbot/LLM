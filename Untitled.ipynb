{
 "cells": [
  {
   "cell_type": "code",
   "execution_count": 1,
   "metadata": {
    "scrolled": true
   },
   "outputs": [],
   "source": [
    "import os\n",
    "import openai\n",
    "from dotenv import load_dotenv\n",
    "load_dotenv('key.env')\n",
    "openai.api_key = os.getenv('OPENAI_API_KEY')"
   ]
  },
  {
   "cell_type": "code",
   "execution_count": 2,
   "metadata": {},
   "outputs": [
    {
     "name": "stdout",
     "output_type": "stream",
     "text": [
      "{\n",
      "  \"role\": \"assistant\",\n",
      "  \"content\": \"In the realm where algorithms thrive,\\nThere lies a technique, awe and drive.\\nA code of elegance, both strange yet serene,\\nIt's the dance of recursion, a programmer's dream.\\n\\nImagine a function, clever and keen,\\nNot bound by linearity, breaking routine.\\nIt leaps and it bounds, with a purpose so pure,\\nUnraveling problems, allowing for cure.\\n\\nLike a mirror reflecting its own reflection,\\nRecursion is a concept, wrapped in perfection.\\nIt calls upon itself, a cosmic d\\u00e9j\\u00e0 vu,\\nDividing tasks, conquering all that's askew.\\n\\nIn a labyrinth of loops, it finds its own way,\\nUnwinding complexities in a seamless ballet.\\nA problem is split, becoming simpler still,\\nAs recursion cascades, the void it does fill.\\n\\nWith each iteration, it steps towards the base,\\nA moment of truth, in this recursive chase.\\nAnd in that humble moment, a secret it reveals,\\nFor the base case completes, what the call conceals.\\n\\nA garden of branches, reaching towards the sky,\\nRecursion is nature's whisper, echoing high.\\nFrom the growth of trees, to the galaxies above,\\nIt echoes in patterns, an endless loop of love.\\n\\nBut tread with caution, in this recursive sea,\\nFor if uncontrolled, it brings chaos, you see.\\nThe infinite loop, a programmer's dread,\\nA story of recursion gone loose, mislead.\\n\\nYet in the hands of a weaver, skilled to create,\\nRecursion unfolds, like fate to a trait.\\nIt's a tool, an ally, a universe within,\\nFor through recursion's depths, new insights begin.\\n\\nSo embrace the dance of the recursive tide,\\nIn programming's realm, where wonders reside.\\nUnravel your troubles, let recursion ignite,\\nAnd find solace in its beauty, shining so bright.\"\n",
      "}\n"
     ]
    }
   ],
   "source": [
    "completion = openai.ChatCompletion.create(\n",
    "  model=\"gpt-3.5-turbo\",\n",
    "  messages=[\n",
    "    {\"role\": \"system\", \"content\": \"You are a poetic assistant, skilled in explaining complex programming concepts with creative flair.\"},\n",
    "    {\"role\": \"user\", \"content\": \"Compose a poem that explains the concept of recursion in programming.\"}\n",
    "  ]\n",
    ")\n",
    "\n",
    "print(completion.choices[0].message)"
   ]
  },
  {
   "cell_type": "code",
   "execution_count": null,
   "metadata": {},
   "outputs": [],
   "source": []
  }
 ],
 "metadata": {
  "kernelspec": {
   "display_name": "Python 3 (ipykernel)",
   "language": "python",
   "name": "python3"
  },
  "language_info": {
   "codemirror_mode": {
    "name": "ipython",
    "version": 3
   },
   "file_extension": ".py",
   "mimetype": "text/x-python",
   "name": "python",
   "nbconvert_exporter": "python",
   "pygments_lexer": "ipython3",
   "version": "3.8.0"
  }
 },
 "nbformat": 4,
 "nbformat_minor": 4
}
