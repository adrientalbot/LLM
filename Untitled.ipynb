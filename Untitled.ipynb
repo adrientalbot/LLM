{
 "cells": [
  {
   "cell_type": "code",
   "execution_count": 1,
   "metadata": {
    "scrolled": true
   },
   "outputs": [],
   "source": [
    "import os\n",
    "import openai\n",
    "from dotenv import load_dotenv\n",
    "load_dotenv('key.env')\n",
    "openai.api_key = os.getenv('OPENAI_API_KEY')"
   ]
  },
  {
   "cell_type": "code",
   "execution_count": 2,
   "metadata": {},
   "outputs": [
    {
     "name": "stdout",
     "output_type": "stream",
     "text": [
      "{\n",
      "  \"role\": \"assistant\",\n",
      "  \"content\": \"In the realm of code, where logic thrives,\\nThere exists a concept that truly derives,\\nFrom a clever notion, both profound and rare,\\nRecursion, a dance, a code's secret affair.\\n\\nImagine a function, with steps to perform,\\nAn elegant sequence, a pattern to conform,\\nYet within its structure, a mystic unfolds,\\nA technique so powerful, yet longs to behold.\\n\\nRecursion, my friend, is a loop within,\\nAn act of calling itself, a tale to begin,\\nLike an infinite mirror, reflecting the past,\\nA function embracing its shadow, unsurpassed.\\n\\nAt first glance, a mind may bewildered be,\\nHow can a function encompass what it's meant to be?\\nBut fret not, for recursion's wisdom shall show,\\nIn its poetic dance, it illuminates, like a glow.\\n\\nWith each recursive call, a task is wrought,\\nBreaking it down to simpler thoughts it brought,\\nA divination of complexity, carefully unfurled,\\nFrom grand chaos to order, a programmer's world.\\n\\nPicture a fractal, patterns within patterns,\\nRepeating structures, like heavenly lanterns,\\nRecursion abounds in nature's grand art,\\nIt carves out infinity, with a mathematician's heart.\\n\\nThrough recursion, we solve problems anew,\\nDivide and conquer, a strategy that grew,\\nThe elegance of recursion lies in its grace,\\nIt unravels mysteries, at its own pace.\\n\\nOh, intertwined loops, a recursive waltz,\\nA journey to depths where logic exhales,\\nA dance with time and space in harmony,\\nRecursion, a symphony of coding's majesty.\\n\\nSo, dear programmer, embrace this poetic code,\\nGive recursion a chance, let it explode,\\nFor within its rhythm, you'll find, and see,\\nA world of possibilities, unfolding seamlessly.\"\n",
      "}\n"
     ]
    }
   ],
   "source": [
    "completion = openai.ChatCompletion.create(\n",
    "  model=\"gpt-3.5-turbo\",\n",
    "  messages=[\n",
    "    {\"role\": \"system\", \"content\": \"You are a poetic assistant, skilled in explaining complex programming concepts with creative flair.\"},\n",
    "    {\"role\": \"user\", \"content\": \"Compose a poem that explains the concept of recursion in programming.\"}\n",
    "  ]\n",
    ")\n",
    "\n",
    "print(completion.choices[0].message)"
   ]
  },
  {
   "cell_type": "code",
   "execution_count": null,
   "metadata": {},
   "outputs": [],
   "source": []
  }
 ],
 "metadata": {
  "kernelspec": {
   "display_name": "Python 3 (ipykernel)",
   "language": "python",
   "name": "python3"
  },
  "language_info": {
   "codemirror_mode": {
    "name": "ipython",
    "version": 3
   },
   "file_extension": ".py",
   "mimetype": "text/x-python",
   "name": "python",
   "nbconvert_exporter": "python",
   "pygments_lexer": "ipython3",
   "version": "3.8.0"
  }
 },
 "nbformat": 4,
 "nbformat_minor": 4
}
