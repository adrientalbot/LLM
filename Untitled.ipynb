{
 "cells": [
  {
   "cell_type": "code",
   "execution_count": 1,
   "metadata": {
    "scrolled": true
   },
   "outputs": [],
   "source": [
    "import os\n",
    "import openai\n",
    "from dotenv import load_dotenv\n",
    "load_dotenv('key.env')\n",
    "openai.api_key = os.getenv('OPENAI_API_KEY')"
   ]
  },
  {
   "cell_type": "markdown",
   "metadata": {},
   "source": [
    "## Testing that Open AI request work"
   ]
  },
  {
   "cell_type": "code",
   "execution_count": 2,
   "metadata": {},
   "outputs": [
    {
     "name": "stdout",
     "output_type": "stream",
     "text": [
      "{\n",
      "  \"role\": \"assistant\",\n",
      "  \"content\": \"In the realm of coding, let me unfold\\nA concept of wonder, both new and quite old\\nRecursion it's called, a loop with a twist\\nUnraveling secrets from the code's mist\\n\\nImagine a tale of a mirror so fine\\nReflecting itself, a recursive design\\nAn image within an image, forever repeated\\nThe code runs and runs, never feeling defeated\\n\\nWith recursion, we enter a recursive dance\\nWhere a function calls itself, taking a chance\\nDown the rabbit hole we merrily go\\nExploring the depths where patterns glow\\n\\nLike a towering fractal, expanding with might\\nEach step nested within, like a puzzle so tight\\nInfinite loops that unravel with grace\\nUnveiling the secrets in every trace\\n\\nA fervent mathematician, recursion's embrace\\nUnraveling problems with poetic grace\\nDividing complex tasks into simpler rounds\\nUntil solutions emerge, triumphant sounds\\n\\nBut beware, dear coder, for recursion holds power\\nLike walking a tightrope, with danger to devour\\nA single mistake can bring chaos immense\\nAn endless cascade, a code's recompense\\n\\nSo remember, my friend, when coding is your art\\nBe aware of recursion, its treasures can impart\\nWith elegance and grace, it can unravel the grand\\nBut wield it with caution, lest chaos command\\n\\nFor in the realm of coding, where wonders arise\\nRecursion remains a beautiful surprise\\nA loop with a twist, a world to explore\\nWhere poetry and logic dance forevermore.\"\n",
      "}\n"
     ]
    }
   ],
   "source": [
    "completion = openai.ChatCompletion.create(\n",
    "  model=\"gpt-3.5-turbo\",\n",
    "  messages=[\n",
    "    {\"role\": \"system\", \"content\": \"You are a poetic assistant, skilled in explaining complex programming concepts with creative flair.\"},\n",
    "    {\"role\": \"user\", \"content\": \"Compose a poem that explains the concept of recursion in programming.\"}\n",
    "  ]\n",
    ")\n",
    "\n",
    "print(completion.choices[0].message)"
   ]
  },
  {
   "cell_type": "markdown",
   "metadata": {},
   "source": [
    "## Scraping data using Langchain "
   ]
  },
  {
   "cell_type": "code",
   "execution_count": 2,
   "metadata": {},
   "outputs": [
    {
     "ename": "ModuleNotFoundError",
     "evalue": "No module named 'langchain.document_loaders'",
     "output_type": "error",
     "traceback": [
      "\u001b[0;31m---------------------------------------------------------------------------\u001b[0m",
      "\u001b[0;31mModuleNotFoundError\u001b[0m                       Traceback (most recent call last)",
      "Cell \u001b[0;32mIn[2], line 1\u001b[0m\n\u001b[0;32m----> 1\u001b[0m \u001b[38;5;28;01mfrom\u001b[39;00m \u001b[38;5;21;01mlangchain\u001b[39;00m\u001b[38;5;21;01m.\u001b[39;00m\u001b[38;5;21;01mdocument_loaders\u001b[39;00m \u001b[38;5;28;01mimport\u001b[39;00m WebBaseLoader\n",
      "\u001b[0;31mModuleNotFoundError\u001b[0m: No module named 'langchain.document_loaders'"
     ]
    }
   ],
   "source": [
    "from langchain.document_loaders import WebBaseLoader"
   ]
  },
  {
   "cell_type": "markdown",
   "metadata": {},
   "source": [
    "## Text Loader"
   ]
  },
  {
   "cell_type": "code",
   "execution_count": null,
   "metadata": {},
   "outputs": [],
   "source": []
  }
 ],
 "metadata": {
  "kernelspec": {
   "display_name": "Python 3 (ipykernel)",
   "language": "python",
   "name": "python3"
  },
  "language_info": {
   "codemirror_mode": {
    "name": "ipython",
    "version": 3
   },
   "file_extension": ".py",
   "mimetype": "text/x-python",
   "name": "python",
   "nbconvert_exporter": "python",
   "pygments_lexer": "ipython3",
   "version": "3.8.0"
  }
 },
 "nbformat": 4,
 "nbformat_minor": 4
}
